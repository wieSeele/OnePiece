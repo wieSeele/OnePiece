{
 "cells": [
  {
   "cell_type": "markdown",
   "metadata": {},
   "source": [
    "## 数据处理技巧  "
   ]
  },
  {
   "cell_type": "code",
   "execution_count": 1,
   "metadata": {},
   "outputs": [],
   "source": [
    "import numpy as np\n",
    "import torch\n",
    "from torchvision import transforms\n",
    "from PIL import Image"
   ]
  },
  {
   "cell_type": "markdown",
   "metadata": {},
   "source": [
    "### 图像数据的置换操作（permute）"
   ]
  },
  {
   "cell_type": "code",
   "execution_count": 11,
   "metadata": {},
   "outputs": [
    {
     "name": "stdout",
     "output_type": "stream",
     "text": [
      "(32, 32, 3)\n",
      "(3, 32, 32)\n"
     ]
    }
   ],
   "source": [
    "## 随机生成一张图像 【HWC形式】\n",
    "img_n = np.random.randint(0, 255, (32,32,3))\n",
    "img_perm_bynp = np.transpose(img_n, (2,0,1))\n",
    "print(img_n.shape)\n",
    "print(img_perm_bynp.shape)"
   ]
  },
  {
   "cell_type": "code",
   "execution_count": 14,
   "metadata": {},
   "outputs": [
    {
     "name": "stdout",
     "output_type": "stream",
     "text": [
      "torch.Size([32, 32, 3])\n",
      "torch.Size([3, 32, 32])\n"
     ]
    }
   ],
   "source": [
    "## 采用torch的方法\n",
    "img_t = torch.from_numpy(img_n)\n",
    "print(img_t.shape)\n",
    "img_perm_bytorch = img_t.permute(2,0,1)\n",
    "print(img_perm_bytorch.shape)"
   ]
  },
  {
   "cell_type": "markdown",
   "metadata": {},
   "source": [
    "### 图像数据的重组操作（reshape）"
   ]
  },
  {
   "cell_type": "code",
   "execution_count": 15,
   "metadata": {},
   "outputs": [
    {
     "name": "stdout",
     "output_type": "stream",
     "text": [
      "(32, 32, 3)\n",
      "torch.Size([32, 32, 3])\n"
     ]
    }
   ],
   "source": [
    "## 随机生成一张图像\n",
    "raw_data = np.random.randint(0, 255, (3072))\n",
    "## numpy采用reshape函数\n",
    "img_n = np.reshape(raw_data, (32,32,3))\n",
    "print(img_n.shape)\n",
    "## pytorch采用view函数\n",
    "raw_data = torch.from_numpy(raw_data)\n",
    "img_t = raw_data.view(32,32,3)\n",
    "print(img_t.shape)"
   ]
  },
  {
   "cell_type": "markdown",
   "metadata": {},
   "source": [
    "### 图像数据的统一预处理（torchvision.transforms）"
   ]
  },
  {
   "cell_type": "code",
   "execution_count": 3,
   "metadata": {},
   "outputs": [],
   "source": [
    "transfer = transforms.Compose([\n",
    "    transforms.Resize((224,224)),\n",
    "    transforms.RandomHorizontalFlip(0.5),\n",
    "    transforms.ToTensor(),\n",
    "    transforms.Normalize(mean=[0.485, 0.456, 0.406], std=[0.229, 0.224, 0.225]),\n",
    "])"
   ]
  },
  {
   "cell_type": "markdown",
   "metadata": {},
   "source": [
    "### 图像数据类型转换"
   ]
  },
  {
   "cell_type": "code",
   "execution_count": null,
   "metadata": {},
   "outputs": [],
   "source": [
    "img = np.random.randint(0,255,(224,224,3))\n",
    "## ndarray --> PILImage\n",
    "img = Image.fromarray(np.uint8(img))\n",
    "## PILImage --> ndarray\n",
    "img = np.asarray(img)\n",
    "## torch --> ndarray\n",
    "img = img.numpy()\n",
    "## ndarray --> torch\n",
    "img = img.from_numpy(img)\n",
    "## torch --> PILImage\n",
    "img = transforms.ToPILImage(img)\n",
    "## PILImage --> torch\n",
    "img = transforms.ToTensor(img)\n",
    "## opencv --> numpy\n",
    "img = np.asarray(img)\n",
    "## numpy --> opencv\n",
    "img = cv2.fromnumpy(img)"
   ]
  },
  {
   "cell_type": "markdown",
   "metadata": {},
   "source": [
    "### 统一批数据加载接口"
   ]
  },
  {
   "cell_type": "code",
   "execution_count": null,
   "metadata": {},
   "outputs": [],
   "source": [
    "from torch.utils.data import Dataset, DataLoader\n",
    "from glob import glob\n",
    "import os.path as osp\n",
    "\n",
    "class MyData(Dataset):\n",
    "    def __ini__(self, data_dir, transfer=None):\n",
    "        self.data_paths = glob(osp.join(data_dir, '*.jpg'))\n",
    "        self.transfer = transfer\n",
    "    \n",
    "    def __len__(self):\n",
    "        return len(self.data_paths)\n",
    "    \n",
    "    def __getitem__(self, index):\n",
    "        data = Image.open(self.data_paths[index]).convert('RGB')\n",
    "        label = int(data_paths)\n",
    "        if self.transfer:\n",
    "            data = transfer(data)\n",
    "        return (data, label)\n",
    "\n",
    "def get_loader(batch_size=32, shuffle=True):\n",
    "    data_dir = \"xxxx\"\n",
    "    data = MyData(data_dir, transfer = transfer)\n",
    "    return DataLoader(data, batch_size=batch_size, shuffle=shuffle)"
   ]
  }
 ],
 "metadata": {
  "kernelspec": {
   "display_name": "Python 3",
   "language": "python",
   "name": "python3"
  },
  "language_info": {
   "codemirror_mode": {
    "name": "ipython",
    "version": 3
   },
   "file_extension": ".py",
   "mimetype": "text/x-python",
   "name": "python",
   "nbconvert_exporter": "python",
   "pygments_lexer": "ipython3",
   "version": "3.6.5"
  }
 },
 "nbformat": 4,
 "nbformat_minor": 2
}
