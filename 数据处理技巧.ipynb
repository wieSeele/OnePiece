{
 "cells": [
  {
   "cell_type": "markdown",
   "metadata": {},
   "source": [
    "## 数据处理技巧  "
   ]
  },
  {
   "cell_type": "code",
   "execution_count": 2,
   "metadata": {},
   "outputs": [],
   "source": [
    "import numpy as np\n",
    "import torch"
   ]
  },
  {
   "cell_type": "markdown",
   "metadata": {},
   "source": [
    "### 图像数据的置换操作（permute）"
   ]
  },
  {
   "cell_type": "code",
   "execution_count": 11,
   "metadata": {},
   "outputs": [
    {
     "name": "stdout",
     "output_type": "stream",
     "text": [
      "(32, 32, 3)\n",
      "(3, 32, 32)\n"
     ]
    }
   ],
   "source": [
    "## 随机生成一张图像 【HWC形式】\n",
    "img_n = np.random.randint(0, 255, (32,32,3))\n",
    "img_perm_bynp = np.transpose(img_n, (2,0,1))\n",
    "print(img_n.shape)\n",
    "print(img_perm_bynp.shape)"
   ]
  },
  {
   "cell_type": "code",
   "execution_count": 14,
   "metadata": {},
   "outputs": [
    {
     "name": "stdout",
     "output_type": "stream",
     "text": [
      "torch.Size([32, 32, 3])\n",
      "torch.Size([3, 32, 32])\n"
     ]
    }
   ],
   "source": [
    "## 采用torch的方法\n",
    "img_t = torch.from_numpy(img_n)\n",
    "print(img_t.shape)\n",
    "img_perm_bytorch = img_t.permute(2,0,1)\n",
    "print(img_perm_bytorch.shape)"
   ]
  },
  {
   "cell_type": "markdown",
   "metadata": {},
   "source": [
    "### 图像数据的重组操作（reshape）"
   ]
  },
  {
   "cell_type": "code",
   "execution_count": 15,
   "metadata": {},
   "outputs": [
    {
     "name": "stdout",
     "output_type": "stream",
     "text": [
      "(32, 32, 3)\n",
      "torch.Size([32, 32, 3])\n"
     ]
    }
   ],
   "source": [
    "## 随机生成一张图像\n",
    "raw_data = np.random.randint(0, 255, (3072))\n",
    "## numpy采用reshape函数\n",
    "img_n = np.reshape(raw_data, (32,32,3))\n",
    "print(img_n.shape)\n",
    "## pytorch采用view函数\n",
    "raw_data = torch.from_numpy(raw_data)\n",
    "img_t = raw_data.view(32,32,3)\n",
    "print(img_t.shape)"
   ]
  }
 ],
 "metadata": {
  "kernelspec": {
   "display_name": "Python 3",
   "language": "python",
   "name": "python3"
  },
  "language_info": {
   "codemirror_mode": {
    "name": "ipython",
    "version": 3
   },
   "file_extension": ".py",
   "mimetype": "text/x-python",
   "name": "python",
   "nbconvert_exporter": "python",
   "pygments_lexer": "ipython3",
   "version": "3.6.5"
  }
 },
 "nbformat": 4,
 "nbformat_minor": 2
}
