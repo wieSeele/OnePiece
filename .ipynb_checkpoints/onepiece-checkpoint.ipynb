{
 "cells": [
  {
   "cell_type": "markdown",
   "metadata": {},
   "source": [
    "# 通用算法库"
   ]
  },
  {
   "cell_type": "code",
   "execution_count": 12,
   "metadata": {},
   "outputs": [
    {
     "name": "stdout",
     "output_type": "stream",
     "text": [
      "Using matplotlib backend: Qt5Agg\n"
     ]
    }
   ],
   "source": [
    "%matplotlib\n",
    "import numpy as np\n",
    "import matplotlib.pyplot as plt"
   ]
  },
  {
   "cell_type": "markdown",
   "metadata": {},
   "source": [
    "## 1 连续值离散化\n",
    "针对一个连续变量c：[DOWN,UP]，以b为间隔将其转换成离散化后的值d：[0,N+1]。  \n",
    "若c取值在区间外，则d = N+1。  \n",
    "该功能可用于强化学习中构建Q表时，将连续状态值映射为Q表的矩阵索引。  "
   ]
  },
  {
   "cell_type": "code",
   "execution_count": 1,
   "metadata": {},
   "outputs": [
    {
     "name": "stdout",
     "output_type": "stream",
     "text": [
      "14\n"
     ]
    }
   ],
   "source": [
    "DOWN, UP = -5, 5\n",
    "b = 0.5\n",
    "def map_continuous_discretization(c, down, up, b):\n",
    "    if not (c > down and c < up):\n",
    "        c = up\n",
    "    return int((c - down) / b)\n",
    "d = map_continuous_discretization(2.2, DOWN, UP, b)\n",
    "print(d)"
   ]
  },
  {
   "cell_type": "code",
   "execution_count": 9,
   "metadata": {},
   "outputs": [
    {
     "name": "stdout",
     "output_type": "stream",
     "text": [
      "15\n"
     ]
    }
   ],
   "source": [
    "def map_continuous_discretization_np(c, down, up, b):\n",
    "    '''numpy版本，自带digitize函数'''\n",
    "    bins = np.arange(down, up, b)\n",
    "    return np.digitize(c, bins)\n",
    "d = map_continuous_discretization_np(2.2, -5, 5, 0.5)\n",
    "print(d)"
   ]
  },
  {
   "cell_type": "markdown",
   "metadata": {},
   "source": [
    "## 2 参数可视化——渐变色表示法\n",
    "在可视化某些参数的时候希望通过色彩表现区分。但仅仅将RGB的某一个通道用该参数表示，辨识度并不高。所以需要建立一个渐变色范围表。"
   ]
  },
  {
   "cell_type": "code",
   "execution_count": 17,
   "metadata": {},
   "outputs": [],
   "source": [
    "def gradient_color():\n",
    "    \"\"\"绘制三张渐变色图像\"\"\"\n",
    "    img1 = np.ones([255,255,3], dtype=np.uint8)\n",
    "    for x in range(img1.shape[0]):\n",
    "        for y in range(img1.shape[1]):\n",
    "            img1[x,:,0] = 255-x\n",
    "            img1[x,y,1] = int(x/2 + y/2)\n",
    "            img1[:,y,2] = 255-y\n",
    "    img2 = np.ones([255,255,3], dtype=np.uint8)\n",
    "    for x in range(img2.shape[0]):\n",
    "        for y in range(img2.shape[1]):\n",
    "            img2[x,:,0] = x\n",
    "            img2[x,y,1] = y\n",
    "            img2[x,:,2] = 255-x\n",
    "    img3 = np.ones([255,255,3], dtype=np.uint8)\n",
    "    for x in range(img3.shape[0]):\n",
    "        img3[x,:,0] = x\n",
    "        img3[x,:,1] = 0\n",
    "        img3[x,:,2] = 255-x\n",
    "    plt.subplot(131);    plt.imshow(img1)\n",
    "    plt.subplot(132);    plt.imshow(img2)\n",
    "    plt.subplot(133);    plt.imshow(img3)\n",
    "    plt.show()\n",
    "gradient_color()"
   ]
  },
  {
   "cell_type": "markdown",
   "metadata": {},
   "source": [
    "## 3 one-hot分布\n",
    "在对多个数据加权处理时，权重往往和分布有关。  \n",
    "对一列数据a:[x1,x2,...xn]，转换成one-hot分布，其中hot值的位置是a中最大值的位置。  \n",
    "P[np.argmax(a)] = 1  "
   ]
  },
  {
   "cell_type": "code",
   "execution_count": 22,
   "metadata": {},
   "outputs": [
    {
     "name": "stdout",
     "output_type": "stream",
     "text": [
      "[98 58  9 48 22 81 45 11 83 64]\n",
      "[1. 0. 0. 0. 0. 0. 0. 0. 0. 0.]\n"
     ]
    }
   ],
   "source": [
    "def one_hot():\n",
    "    a = np.random.randint(0, 100, 10)\n",
    "    E = np.zeros(a.shape)\n",
    "    E[np.argmax(a)] = 1\n",
    "    print(a)\n",
    "    print(E)\n",
    "one_hot()"
   ]
  },
  {
   "cell_type": "markdown",
   "metadata": {},
   "source": [
    "## 4 $\\epsilon-$greedy算法\n",
    "强化学习中根据Q表选择行为a往往会用到$\\epsilon-$greedy算法。  \n",
    "以$\\epsilon$的概率均匀地从行为空间中选择，以$(1-\\epsilon)$的概率从行为空间中选择价值最大的a，这就会用到one-hot分布和均匀分布。"
   ]
  },
  {
   "cell_type": "code",
   "execution_count": 30,
   "metadata": {},
   "outputs": [
    {
     "name": "stdout",
     "output_type": "stream",
     "text": [
      "[6.35652502 5.92933239 8.44680486 0.132342   4.4845706 ]\n",
      "[0 1 2 3 4]\n",
      "2\n"
     ]
    }
   ],
   "source": [
    "def epsilon_greedy(Qs,A,epsilon=0.3):\n",
    "    \"\"\"Qs：Q表在S=s的这一行  [M]\n",
    "       A：行为空间   [M]\n",
    "    \"\"\"\n",
    "    M = A.shape\n",
    "    E = np.zeros(M)                   ## one-hot 分布\n",
    "    E[np.argmax(Qs)] = 1\n",
    "    P = np.ones(M)                    ## 均匀分布\n",
    "    P = P / M\n",
    "    Prop = epsilon * P + (1 - epsilon) * E\n",
    "    a = np.random.choice(A, p=Prop)\n",
    "    return a\n",
    "Qs = 10 * np.random.rand(5)\n",
    "A = np.arange(5)\n",
    "a = epsilon_greedy(Qs, A, epsilon=0.3)\n",
    "print(Qs); print(A); print(a)"
   ]
  }
 ],
 "metadata": {
  "kernelspec": {
   "display_name": "Python 3",
   "language": "python",
   "name": "python3"
  },
  "language_info": {
   "codemirror_mode": {
    "name": "ipython",
    "version": 3
   },
   "file_extension": ".py",
   "mimetype": "text/x-python",
   "name": "python",
   "nbconvert_exporter": "python",
   "pygments_lexer": "ipython3",
   "version": "3.6.5"
  }
 },
 "nbformat": 4,
 "nbformat_minor": 2
}
